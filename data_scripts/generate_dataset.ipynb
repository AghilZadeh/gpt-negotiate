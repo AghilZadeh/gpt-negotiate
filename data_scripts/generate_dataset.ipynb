{
 "cells": [
  {
   "attachments": {},
   "cell_type": "markdown",
   "metadata": {},
   "source": [
    "## Demo"
   ]
  },
  {
   "cell_type": "code",
   "execution_count": 2,
   "metadata": {},
   "outputs": [
    {
     "ename": "FileNotFoundError",
     "evalue": "[Errno 2] No such file or directory: 'api_key.txt'",
     "output_type": "error",
     "traceback": [
      "\u001b[0;31m---------------------------------------------------------------------------\u001b[0m",
      "\u001b[0;31mFileNotFoundError\u001b[0m                         Traceback (most recent call last)",
      "Cell \u001b[0;32mIn[2], line 4\u001b[0m\n\u001b[1;32m      1\u001b[0m \u001b[39mimport\u001b[39;00m \u001b[39mopenai\u001b[39;00m\n\u001b[1;32m      2\u001b[0m \u001b[39mimport\u001b[39;00m \u001b[39mjson\u001b[39;00m\n\u001b[0;32m----> 4\u001b[0m \u001b[39mwith\u001b[39;00m \u001b[39mopen\u001b[39;49m(\u001b[39m'\u001b[39;49m\u001b[39mapi_key.txt\u001b[39;49m\u001b[39m'\u001b[39;49m, \u001b[39m'\u001b[39;49m\u001b[39mr\u001b[39;49m\u001b[39m'\u001b[39;49m) \u001b[39mas\u001b[39;00m f:\n\u001b[1;32m      5\u001b[0m     api \u001b[39m=\u001b[39m f\u001b[39m.\u001b[39mreadline()\u001b[39m.\u001b[39mstrip()\n\u001b[1;32m      6\u001b[0m openai\u001b[39m.\u001b[39mapi_key \u001b[39m=\u001b[39m api\n",
      "File \u001b[0;32m~/anaconda3/envs/dsml-project-2/lib/python3.11/site-packages/IPython/core/interactiveshell.py:284\u001b[0m, in \u001b[0;36m_modified_open\u001b[0;34m(file, *args, **kwargs)\u001b[0m\n\u001b[1;32m    277\u001b[0m \u001b[39mif\u001b[39;00m file \u001b[39min\u001b[39;00m {\u001b[39m0\u001b[39m, \u001b[39m1\u001b[39m, \u001b[39m2\u001b[39m}:\n\u001b[1;32m    278\u001b[0m     \u001b[39mraise\u001b[39;00m \u001b[39mValueError\u001b[39;00m(\n\u001b[1;32m    279\u001b[0m         \u001b[39mf\u001b[39m\u001b[39m\"\u001b[39m\u001b[39mIPython won\u001b[39m\u001b[39m'\u001b[39m\u001b[39mt let you open fd=\u001b[39m\u001b[39m{\u001b[39;00mfile\u001b[39m}\u001b[39;00m\u001b[39m by default \u001b[39m\u001b[39m\"\u001b[39m\n\u001b[1;32m    280\u001b[0m         \u001b[39m\"\u001b[39m\u001b[39mas it is likely to crash IPython. If you know what you are doing, \u001b[39m\u001b[39m\"\u001b[39m\n\u001b[1;32m    281\u001b[0m         \u001b[39m\"\u001b[39m\u001b[39myou can use builtins\u001b[39m\u001b[39m'\u001b[39m\u001b[39m open.\u001b[39m\u001b[39m\"\u001b[39m\n\u001b[1;32m    282\u001b[0m     )\n\u001b[0;32m--> 284\u001b[0m \u001b[39mreturn\u001b[39;00m io_open(file, \u001b[39m*\u001b[39;49margs, \u001b[39m*\u001b[39;49m\u001b[39m*\u001b[39;49mkwargs)\n",
      "\u001b[0;31mFileNotFoundError\u001b[0m: [Errno 2] No such file or directory: 'api_key.txt'"
     ]
    }
   ],
   "source": [
    "import openai\n",
    "import json\n",
    "\n",
    "with open('../credentials/api_key.txt', 'r') as f:\n",
    "    api = f.readline().strip()\n",
    "openai.api_key = api"
   ]
  },
  {
   "cell_type": "code",
   "execution_count": 10,
   "metadata": {},
   "outputs": [],
   "source": [
    "# protocol_list = [\n",
    "#     {\n",
    "#         'Location': 'Arizona',\n",
    "#         'Company': 'Apple',\n",
    "#         'Title': 'Software Engineer',\n",
    "#         'Level': 'L3'\n",
    "#     }, \n",
    "#     {\n",
    "#         'Location': 'California',\n",
    "#         'Company': 'Google',\n",
    "#         'Title': 'Software Engineer',\n",
    "#         'Level': 'L3'\n",
    "#     }\n",
    "# ]\n",
    "# with open('protocol_list.json', 'w') as f:\n",
    "#     json.dump(protocol_list, f, indent=4)"
   ]
  },
  {
   "cell_type": "code",
   "execution_count": 11,
   "metadata": {},
   "outputs": [],
   "source": [
    "from generate_dataset import generate_prompt, make_requests, generate_dataset"
   ]
  },
  {
   "cell_type": "code",
   "execution_count": 15,
   "metadata": {},
   "outputs": [
    {
     "data": {
      "text/plain": [
       "[{'Location': 'Arizona',\n",
       "  'Company': 'Apple',\n",
       "  'Title': 'Software Engineer',\n",
       "  'Level': 'L3'},\n",
       " {'Location': 'California',\n",
       "  'Company': 'Google',\n",
       "  'Title': 'Software Engineer',\n",
       "  'Level': 'L3'}]"
      ]
     },
     "execution_count": 15,
     "metadata": {},
     "output_type": "execute_result"
    }
   ],
   "source": [
    "with open('protocol_list.json', 'r') as f:\n",
    "    protocol_list = json.load(f)\n",
    "protocol_list"
   ]
  },
  {
   "cell_type": "code",
   "execution_count": 16,
   "metadata": {},
   "outputs": [
    {
     "name": "stdout",
     "output_type": "stream",
     "text": [
      "You are asked to come up with a set of 2 diverse ways of asking the same question.\n",
      "\n",
      "The question is: What is the salary of a L3 Software Engineer working in Apple in Arizona?\n",
      "\n",
      "Here are the requirements:\n",
      "1. Try not to repeat the verb for each instruction to maximize diversity.\n",
      "2. The language used for the question also should be diverse.\n",
      "3. A language model should be able to complete the question.\n",
      "4. The questions should be in English.\n",
      "5. Please return the results in a single string with nothing in front of each question.\n",
      "6. The questions should be seperated by the newline operator '\\n'.\n",
      "\n",
      "List of 2 questions:\n"
     ]
    }
   ],
   "source": [
    "prompt = generate_prompt(protocol_list[0], 2)\n",
    "print(prompt)"
   ]
  },
  {
   "cell_type": "code",
   "execution_count": 17,
   "metadata": {},
   "outputs": [
    {
     "data": {
      "text/plain": [
       "['What compensation package can a Software Engineer at L3 expect while working for Apple in Arizona?',\n",
       " \"What's the pay range for L3 Software Engineers working at Apple's Arizona-based office?\"]"
      ]
     },
     "execution_count": 17,
     "metadata": {},
     "output_type": "execute_result"
    }
   ],
   "source": [
    "question_list = make_requests(prompt)\n",
    "question_list"
   ]
  },
  {
   "cell_type": "code",
   "execution_count": 18,
   "metadata": {},
   "outputs": [
    {
     "data": {
      "text/plain": [
       "[{'instruction': 'What compensation does an L3 Software Engineer receive while employed at Apple in Arizona?\\\\n',\n",
       "  'input': '',\n",
       "  'output': 'According to our database, the salary information for an L3 Software Engineer working at Apple in Arizona is as follows:\\n\\nMedian: 1000000\\nQ1: 600000\\nQ3: 2000000'},\n",
       " {'instruction': 'In Arizona, what is the salary range for an L3 Software Engineer working for Apple?',\n",
       "  'input': '',\n",
       "  'output': 'According to our database, the salary information for an L3 Software Engineer working at Apple in Arizona is as follows:\\n\\nMedian: 1000000\\nQ1: 600000\\nQ3: 2000000'},\n",
       " {'instruction': 'What amount of pay does a Google L3 Software Engineer in California typically make?',\n",
       "  'input': '',\n",
       "  'output': 'According to our database, the salary information for an L3 Software Engineer working at Google in California is as follows:\\n\\nMedian: 1000000\\nQ1: 600000\\nQ3: 2000000'},\n",
       " {'instruction': 'How much salary can be expected for a L3 Software Engineer at Google based in California?',\n",
       "  'input': '',\n",
       "  'output': 'According to our database, the salary information for an L3 Software Engineer working at Google in California is as follows:\\n\\nMedian: 1000000\\nQ1: 600000\\nQ3: 2000000'}]"
      ]
     },
     "execution_count": 18,
     "metadata": {},
     "output_type": "execute_result"
    }
   ],
   "source": [
    "dataset = generate_dataset(protocol_list, num_question=2)\n",
    "dataset"
   ]
  },
  {
   "cell_type": "code",
   "execution_count": 19,
   "metadata": {},
   "outputs": [
    {
     "name": "stdout",
     "output_type": "stream",
     "text": [
      "According to our database, the salary information for an L3 Software Engineer working at Apple in Arizona is as follows:\n",
      "\n",
      "Median: 1000000\n",
      "Q1: 600000\n",
      "Q3: 2000000\n"
     ]
    }
   ],
   "source": [
    "print(dataset[0]['output'])"
   ]
  },
  {
   "cell_type": "code",
   "execution_count": null,
   "metadata": {},
   "outputs": [],
   "source": []
  }
 ],
 "metadata": {
  "kernelspec": {
   "display_name": "dsml-client",
   "language": "python",
   "name": "python3"
  },
  "language_info": {
   "codemirror_mode": {
    "name": "ipython",
    "version": 3
   },
   "file_extension": ".py",
   "mimetype": "text/x-python",
   "name": "python",
   "nbconvert_exporter": "python",
   "pygments_lexer": "ipython3",
   "version": "3.11.3"
  },
  "orig_nbformat": 4
 },
 "nbformat": 4,
 "nbformat_minor": 2
}
